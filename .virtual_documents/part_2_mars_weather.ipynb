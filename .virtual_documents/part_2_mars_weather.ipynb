


# Import relevant libraries
from splinter import Browser
from bs4 import BeautifulSoup
import matplotlib.pyplot as plt
import pandas as pd


browser = Browser('chrome')





# Visit the website
# https://static.bc-edx.com/data/web/mars_facts/temperature.html
url = "https://static.bc-edx.com/data/web/mars_facts/temperature.html"
browser.visit(url)





# Create a Beautiful Soup Object
html = browser.html
soup = BeautifulSoup(html, 'html.parser')


# Extract all rows of data
table = soup.find_all('tr')





# Create an empty list
mars_data = []

# Loop through the scraped data to create a list of rows
for row in table:
    # Append the combined header and data of the current row to mars_data
    rows = [elem.text.strip() for elem in row.find_all(['th', 'td'])]
    mars_data.append(rows)


# Create a Pandas DataFrame by using the list of rows and a list of the column names
mars_df = pd.DataFrame(mars_data)
# Use the first row as column headers
mars_df.columns = mars_df.iloc[0]

# Drop the first row (which contains the column headers)
mars_df = mars_df.iloc[1:].reset_index(drop=True)


# Confirm DataFrame was created successfully
mars_df.head()





# Examine data type of each column
mars_df.dtypes


# Change data types for data analysis
mars_df[['sol', 'ls', 'month']] = mars_df[['sol', 'ls', 'month']].astype(int)
mars_df['terrestrial_date'] = pd.to_datetime(mars_df['terrestrial_date'])
mars_df[['min_temp', 'pressure']] = mars_df[['min_temp', 'pressure']].astype(float)


# Confirm type changes were successful by examining data types again
mars_df.dtypes





# 1. How many months are there on Mars?
# alternative code: mars_df['month'].value_counts().sort_index()
mars_month = mars_df.groupby('month')['month'].count().sort_index()
mars_month


# 2. How many Martian days' worth of data are there?
len(mars_df['terrestrial_date'])


# 3. What is the average low temperature by month?
avg_min_temp = mars_df.groupby('month')['min_temp'].mean().sort_index()
avg_min_temp 


# Plot the average temperature by month
avg_min_temp.plot(kind='bar', ylabel='Temperature in Celsius')
plt.show()


# Identify the coldest and hottest months in Curiosity's location
sorted_avg_min_temp = mars_df.groupby('month')['min_temp'].mean().sort_values()

sorted_avg_min_temp.plot(kind='bar', ylabel='Temperature in Celsius')
plt.show()


# 4. Average pressure by Martian month
avg_pressure = mars_df.groupby('month')['pressure'].mean().sort_index()
avg_pressure


# Plot the average pressure by month
sorted_avg_pressure = mars_df.groupby('month')['pressure'].mean().sort_values()
sorted_avg_pressure.plot(kind='bar', ylabel='Atmospheric Pressure')
plt.show()


# mars_df['days_since_start'] = (mars_df['terrestrial_date'] - mars_df['terrestrial_date'].min()).dt.days

plt.plot(range(len(mars_df['terrestrial_date'])), mars_df['min_temp'])
plt.xlabel('Number of terrestrial days')
plt.ylabel('Minimum temperature')
plt.show()














# Write the data to a CSV
mars_df.to_csv('output/mars_data.csv', index=False)


browser.quit()



